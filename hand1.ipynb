{
 "cells": [
  {
   "cell_type": "code",
   "execution_count": 1,
   "id": "fifty-swift",
   "metadata": {},
   "outputs": [],
   "source": [
    "import pandas as pd\n",
    "import numpy as np\n",
    "import matplotlib.pyplot as plt"
   ]
  },
  {
   "cell_type": "code",
   "execution_count": 2,
   "id": "victorian-emphasis",
   "metadata": {},
   "outputs": [],
   "source": [
    "import mailbox"
   ]
  },
  {
   "cell_type": "code",
   "execution_count": 3,
   "id": "modified-locator",
   "metadata": {},
   "outputs": [],
   "source": [
    "mbox = mailbox.mbox(\"All mail Including Spam and Trash.mbox\")"
   ]
  },
  {
   "cell_type": "code",
   "execution_count": 4,
   "id": "continuous-memorabilia",
   "metadata": {},
   "outputs": [
    {
     "name": "stdout",
     "output_type": "stream",
     "text": [
      "X-GM-THRID\n",
      "X-Gmail-Labels\n",
      "Delivered-To\n",
      "Received\n",
      "X-Google-Smtp-Source\n",
      "X-Received\n",
      "ARC-Seal\n",
      "ARC-Message-Signature\n",
      "ARC-Authentication-Results\n",
      "Return-Path\n",
      "Received\n",
      "Received-SPF\n",
      "Authentication-Results\n",
      "X-MSFBL\n",
      "DKIM-Signature\n",
      "To\n",
      "Message-ID\n",
      "Date\n",
      "Content-Type\n",
      "MIME-Version\n",
      "Subject\n",
      "From\n",
      "List-Unsubscribe\n",
      "List-Id\n"
     ]
    }
   ],
   "source": [
    "for key in mbox[0].keys():\n",
    "    print(key)"
   ]
  },
  {
   "cell_type": "code",
   "execution_count": 5,
   "id": "british-antique",
   "metadata": {},
   "outputs": [],
   "source": [
    "import csv"
   ]
  },
  {
   "cell_type": "code",
   "execution_count": 6,
   "id": "greater-enzyme",
   "metadata": {},
   "outputs": [],
   "source": [
    "with open('mailbox.csv','w') as outputfile:\n",
    "    writer = csv.writer(outputfile)\n",
    "    writer.writerow(['subject','from','date','to','label','thread'])\n",
    "    \n",
    "    for message in mbox:\n",
    "        writer.writerow([\n",
    "            message['subject'],\n",
    "            message['from'],\n",
    "            message['date'],\n",
    "            message['to'],\n",
    "            message['X-Gmail-Labels'],\n",
    "            message['X-GM-THIRD']\n",
    "        ])"
   ]
  },
  {
   "cell_type": "code",
   "execution_count": 7,
   "id": "thousand-running",
   "metadata": {},
   "outputs": [],
   "source": [
    "dfs = pd.read_csv('mailbox.csv')"
   ]
  },
  {
   "cell_type": "code",
   "execution_count": 8,
   "id": "narrative-methodology",
   "metadata": {},
   "outputs": [
    {
     "data": {
      "text/plain": [
       "Index(['subject', 'from', 'date', 'to', 'label', 'thread'], dtype='object')"
      ]
     },
     "execution_count": 8,
     "metadata": {},
     "output_type": "execute_result"
    }
   ],
   "source": [
    "dfs.columns"
   ]
  },
  {
   "cell_type": "code",
   "execution_count": 9,
   "id": "related-drawing",
   "metadata": {},
   "outputs": [
    {
     "data": {
      "text/plain": [
       "subject     object\n",
       "from        object\n",
       "date        object\n",
       "to          object\n",
       "label       object\n",
       "thread     float64\n",
       "dtype: object"
      ]
     },
     "execution_count": 9,
     "metadata": {},
     "output_type": "execute_result"
    }
   ],
   "source": [
    "dfs.dtypes"
   ]
  },
  {
   "cell_type": "code",
   "execution_count": 10,
   "id": "alert-director",
   "metadata": {},
   "outputs": [],
   "source": [
    "dfs['date'] = dfs['date'].apply(lambda x: pd.to_datetime(x, errors='coerce', utc=True))"
   ]
  },
  {
   "cell_type": "code",
   "execution_count": 11,
   "id": "personal-deadline",
   "metadata": {},
   "outputs": [
    {
     "data": {
      "text/plain": [
       "subject                 object\n",
       "from                    object\n",
       "date       datetime64[ns, UTC]\n",
       "to                      object\n",
       "label                   object\n",
       "thread                 float64\n",
       "dtype: object"
      ]
     },
     "execution_count": 11,
     "metadata": {},
     "output_type": "execute_result"
    }
   ],
   "source": [
    "dfs.dtypes"
   ]
  },
  {
   "cell_type": "code",
   "execution_count": 12,
   "id": "considerable-beads",
   "metadata": {},
   "outputs": [],
   "source": [
    "dfs = dfs[dfs['date'].notna()]"
   ]
  },
  {
   "cell_type": "code",
   "execution_count": 13,
   "id": "acoustic-attachment",
   "metadata": {},
   "outputs": [],
   "source": [
    "dfs.to_csv('gmail.csv')"
   ]
  },
  {
   "cell_type": "code",
   "execution_count": null,
   "id": "seasonal-public",
   "metadata": {},
   "outputs": [],
   "source": []
  }
 ],
 "metadata": {
  "kernelspec": {
   "display_name": "Python 3",
   "language": "python",
   "name": "python3"
  },
  "language_info": {
   "codemirror_mode": {
    "name": "ipython",
    "version": 3
   },
   "file_extension": ".py",
   "mimetype": "text/x-python",
   "name": "python",
   "nbconvert_exporter": "python",
   "pygments_lexer": "ipython3",
   "version": "3.8.5"
  }
 },
 "nbformat": 4,
 "nbformat_minor": 5
}
